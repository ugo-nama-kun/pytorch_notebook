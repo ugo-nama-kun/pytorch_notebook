{
 "cells": [
  {
   "cell_type": "markdown",
   "metadata": {},
   "source": [
    "# Pytorch Notebook"
   ]
  },
  {
   "cell_type": "code",
   "execution_count": 99,
   "metadata": {},
   "outputs": [],
   "source": [
    "import torch\n",
    "import torch.nn as nn\n",
    "import torch.nn.functional as F\n",
    "import torch.optim as optim\n",
    "\n",
    "import pyro\n",
    "import pyro.distributions as dist\n",
    "import pyro.optim as optim_pyro\n",
    "\n",
    "import torchvision\n",
    "import numpy as np\n",
    "\n",
    "import seaborn as sns\n",
    "import matplotlib.pyplot as plt\n",
    "%matplotlib inline\n",
    "sns.set()"
   ]
  },
  {
   "cell_type": "markdown",
   "metadata": {},
   "source": [
    "## Pytorch basics\n",
    "If you are using jupyterlab, enable \"show contextual help\" for checking the definitions of functions!"
   ]
  },
  {
   "cell_type": "code",
   "execution_count": 145,
   "metadata": {},
   "outputs": [
    {
     "name": "stdout",
     "output_type": "stream",
     "text": [
      "tensor([[1., 1., 1., 1.],\n",
      "        [1., 1., 1., 1.],\n",
      "        [1., 1., 1., 1.]])\n",
      "tensor([[1., 1., 1., 1., 1., 1., 1., 1., 1., 1., 1., 1.]])\n",
      "tensor([[1., 1., 1., 1., 1., 1.],\n",
      "        [1., 1., 1., 1., 1., 1.]])\n",
      "torch.Size([3, 4])\n",
      "tensor([[1.8075, 1.1918, 1.0777, 1.3787],\n",
      "        [1.8548, 1.0903, 1.9512, 1.2047],\n",
      "        [1.6718, 1.4737, 1.1979, 1.5236]])\n",
      "tensor([[-0.3725,  1.7241, -0.5482, -0.5179]])\n",
      "tensor([[-0.3725,  1.7241, -0.5482, -0.5179]])\n",
      "tensor(-2.4792)\n"
     ]
    }
   ],
   "source": [
    "# Get variables\n",
    "x = torch.ones(3, 4)\n",
    "\n",
    "print(x)\n",
    "print(x.view(1, 12))\n",
    "print(x.view(2, -1))\n",
    "\n",
    "y = torch.rand(3, 4)\n",
    "z = x + y\n",
    "\n",
    "print(z.size())\n",
    "print(z)\n",
    "\n",
    "# Matrix product\n",
    "x = torch.randn(4, 4)\n",
    "v = torch.randn(1, 4)\n",
    "z = torch.mm(v, x)\n",
    "print(z)\n",
    "z = torch.matmul(v, x)\n",
    "print(z)\n",
    "\n",
    "# Dot product\n",
    "x = torch.randn(4)\n",
    "v = torch.randn(4)\n",
    "z = torch.dot(x, v)\n",
    "print(z)"
   ]
  },
  {
   "cell_type": "code",
   "execution_count": 3,
   "metadata": {},
   "outputs": [
    {
     "name": "stdout",
     "output_type": "stream",
     "text": [
      "tensor([[1., 1.]], requires_grad=True)\n",
      "tensor([[4., 4.]], grad_fn=<AddBackward0>)\n",
      "<AddBackward0 object at 0x12db9eb70>\n",
      "tensor([[48., 48.]], grad_fn=<MulBackward0>) tensor(48., grad_fn=<MeanBackward0>)\n"
     ]
    }
   ],
   "source": [
    "# Auto grad basics\n",
    "x = torch.ones(1, 2, requires_grad=True)\n",
    "print(x)\n",
    "\n",
    "y = 2 * x + 2\n",
    "print(y)\n",
    "print(y.grad_fn)\n",
    "\n",
    "z = y * y * 3\n",
    "out = z.mean()\n",
    "print(z, out)\n",
    "\n",
    "# , detach"
   ]
  },
  {
   "cell_type": "code",
   "execution_count": 4,
   "metadata": {},
   "outputs": [
    {
     "name": "stdout",
     "output_type": "stream",
     "text": [
      "False\n",
      "True\n",
      "<SumBackward0 object at 0x12db9edd8>\n"
     ]
    }
   ],
   "source": [
    "x = torch.randn(2, 2)  # <-- for constants, requires_grad is initially False\n",
    "x = ((x * 3) / (x - 1))\n",
    "print(x.requires_grad)\n",
    "\n",
    "x.requires_grad_(True) # <-- Switch requires_grad by hand\n",
    "print(x.requires_grad)\n",
    "\n",
    "y = (x ** 2).sum()\n",
    "print(y.grad_fn)"
   ]
  },
  {
   "cell_type": "markdown",
   "metadata": {},
   "source": [
    "### backward"
   ]
  },
  {
   "cell_type": "code",
   "execution_count": 5,
   "metadata": {},
   "outputs": [
    {
     "name": "stdout",
     "output_type": "stream",
     "text": [
      "tensor([[1., 1.],\n",
      "        [1., 1.]], requires_grad=True)\n",
      "True\n",
      "None\n",
      "---\n",
      "tensor([[3., 3.],\n",
      "        [3., 3.]], grad_fn=<AddBackward0>)\n",
      "True\n",
      "<AddBackward0 object at 0x12dbbeb00>\n",
      "---\n",
      "tensor([[27., 27.],\n",
      "        [27., 27.]], grad_fn=<MulBackward0>) tensor(27., grad_fn=<MeanBackward0>)\n",
      "True True\n",
      "<MulBackward0 object at 0x12dbbeb00> <MeanBackward0 object at 0x12dbbebe0>\n",
      "---\n",
      "tensor([[4.5000, 4.5000],\n",
      "        [4.5000, 4.5000]])\n"
     ]
    }
   ],
   "source": [
    "x = torch.ones(2, 2, requires_grad=True) # <-- enable grad calculation\n",
    "print(x)\n",
    "print(x.requires_grad)\n",
    "print(x.grad_fn)\n",
    "print(\"---\")\n",
    "\n",
    "y = x + 2\n",
    "print(y)\n",
    "print(y.requires_grad)\n",
    "print(y.grad_fn)\n",
    "print(\"---\")\n",
    "\n",
    "z = y * y * 3\n",
    "out = z.mean()\n",
    "print(z, out)\n",
    "print(z.requires_grad, out.requires_grad)\n",
    "print(z.grad_fn, out.grad_fn)\n",
    "print(\"---\")\n",
    "\n",
    "out.backward() # <-- run backprop\n",
    "print(x.grad)\n",
    "\n",
    "# running backward() multiple times elicit an error\n",
    "#out.backward() # <-- run backprop\n",
    "#print(x.grad)"
   ]
  },
  {
   "cell_type": "markdown",
   "metadata": {},
   "source": [
    "### vector-Jacobian product\n",
    "This characteristic of vector-Jacobian product makes it very convenient to feed external gradients into a model that has non-scalar output.\n",
    "\n",
    "Now in this case y is no longer a scalar. torch.autograd could not compute the full Jacobian directly, but if we just want the vector-Jacobian product, simply pass the vector to backward as argument. $J$ is jacobian. and ${\\rm x\\_grad} = J^\\top v$. If the backward target is a scalar function, $v = (\\frac{l}{y_1}, \\cdots, \\frac{l}{y_m})^\\top$"
   ]
  },
  {
   "cell_type": "code",
   "execution_count": 6,
   "metadata": {},
   "outputs": [
    {
     "name": "stdout",
     "output_type": "stream",
     "text": [
      "norm : 3.464101552963257\n",
      "tensor([2., 2., 2.], grad_fn=<MulBackward0>)\n",
      "norm : 6.928203105926514\n",
      "tensor([4., 4., 4.], grad_fn=<MulBackward0>)\n",
      "norm : 13.856406211853027\n",
      "tensor([8., 8., 8.], grad_fn=<MulBackward0>)\n",
      "norm : 27.712812423706055\n",
      "tensor([16., 16., 16.], grad_fn=<MulBackward0>)\n",
      "norm : 55.42562484741211\n",
      "tensor([32., 32., 32.], grad_fn=<MulBackward0>)\n",
      "norm : 110.85124969482422\n",
      "tensor([64., 64., 64.], grad_fn=<MulBackward0>)\n",
      "norm : 221.70249938964844\n",
      "tensor([128., 128., 128.], grad_fn=<MulBackward0>)\n",
      "norm : 443.4049987792969\n",
      "tensor([256., 256., 256.], grad_fn=<MulBackward0>)\n",
      "norm : 886.8099975585938\n",
      "tensor([512., 512., 512.], grad_fn=<MulBackward0>)\n",
      "norm : 1773.6199951171875\n",
      "tensor([1024., 1024., 1024.], grad_fn=<MulBackward0>)\n",
      "tensor([1.0240e+02, 1.0240e+03, 1.0240e-01])\n"
     ]
    }
   ],
   "source": [
    "x = torch.ones(3, requires_grad=True)\n",
    "y = x * 2\n",
    "\n",
    "print(f\"norm : {y.data.norm()}\")\n",
    "print(y)\n",
    "while y.data.norm() < 1000:\n",
    "    y = y * 2\n",
    "    print(f\"norm : {y.data.norm()}\")\n",
    "    print(y)\n",
    "\n",
    "v = torch.tensor([0.1, 1.0, 0.0001], dtype=torch.float)\n",
    "y.backward(v)\n",
    "print(x.grad)"
   ]
  },
  {
   "cell_type": "markdown",
   "metadata": {},
   "source": [
    "### Stop autograd by wrapping with no_grad"
   ]
  },
  {
   "cell_type": "code",
   "execution_count": 7,
   "metadata": {},
   "outputs": [
    {
     "name": "stdout",
     "output_type": "stream",
     "text": [
      "tensor([[1., 1.],\n",
      "        [1., 1.]], requires_grad=True)\n",
      "True\n",
      "False\n"
     ]
    }
   ],
   "source": [
    "x = torch.ones(2, 2, requires_grad=True)\n",
    "print(x)\n",
    "print((x ** 2).requires_grad)\n",
    "\n",
    "# stop autograd and block \n",
    "with torch.no_grad():\n",
    "    print((x ** 2).requires_grad)"
   ]
  },
  {
   "cell_type": "markdown",
   "metadata": {},
   "source": [
    "### Use detach() to get a \"new\" Tensor with the same content but that does not require gradient"
   ]
  },
  {
   "cell_type": "code",
   "execution_count": 8,
   "metadata": {},
   "outputs": [
    {
     "name": "stdout",
     "output_type": "stream",
     "text": [
      "True\n",
      "False\n"
     ]
    }
   ],
   "source": [
    "x = torch.tensor([2], dtype=torch.float, requires_grad=True)\n",
    "y = torch.tensor([3], dtype=torch.float, requires_grad=True)\n",
    "\n",
    "out = (x ** 2) * (y ** 2)\n",
    "print(out.requires_grad)\n",
    "z = out.detach()\n",
    "print(z.requires_grad)\n",
    "\n",
    "# z.backward() # <-- return an error"
   ]
  },
  {
   "cell_type": "markdown",
   "metadata": {},
   "source": [
    "## Autograd and some specific topics"
   ]
  },
  {
   "cell_type": "markdown",
   "metadata": {},
   "source": [
    "### Define Fully Connected Feed Forward NN $f_{\\theta}$ "
   ]
  },
  {
   "cell_type": "code",
   "execution_count": 44,
   "metadata": {},
   "outputs": [
    {
     "name": "stdout",
     "output_type": "stream",
     "text": [
      "FFNetwork(\n",
      "  (fc1): Linear(in_features=1, out_features=10, bias=True)\n",
      "  (fc2): Linear(in_features=10, out_features=10, bias=True)\n",
      "  (fc3): Linear(in_features=10, out_features=1, bias=True)\n",
      ")\n",
      "num_params : 6\n",
      "torch.Size([10, 1])\n",
      "torch.Size([10])\n",
      "torch.Size([10, 10])\n",
      "torch.Size([10])\n",
      "torch.Size([1, 10])\n",
      "torch.Size([1])\n",
      "---\n",
      "tensor([[-1.0939],\n",
      "        [-0.3754],\n",
      "        [ 0.6130]])\n",
      "tensor([[-0.3120],\n",
      "        [-0.1881],\n",
      "        [-0.1187]], grad_fn=<AddmmBackward>)\n"
     ]
    }
   ],
   "source": [
    "class FFNetwork(nn.Module):\n",
    "    # One input, one output, two hidden layers\n",
    "\n",
    "    def __init__(self, n_hidden):\n",
    "        super(FFNetwork, self).__init__()\n",
    "        \n",
    "        self.fc1 = nn.Linear(in_features=1, out_features=n_hidden)\n",
    "        self.fc2 = nn.Linear(in_features=n_hidden, out_features=n_hidden)\n",
    "        self.fc3 = nn.Linear(in_features=n_hidden, out_features=1)\n",
    "    \n",
    "    def forward(self, x):\n",
    "        h = F.leaky_relu(self.fc1(x))\n",
    "        h = F.leaky_relu(self.fc2(h))\n",
    "        out = self.fc3(h)\n",
    "        return out\n",
    "\n",
    "ffnet = FFNetwork(10)\n",
    "print(ffnet)\n",
    "\n",
    "params = list(ffnet.parameters())\n",
    "#print(params)\n",
    "print(f\"num_params : {len(params)}\")\n",
    "for i in range(len(params)):\n",
    "    print(params[i].size())\n",
    "print(\"---\")\n",
    "\n",
    "# Trial input\n",
    "input = torch.randn(3, 1)\n",
    "print(input)\n",
    "out = ffnet(input) # same with ffnet.forward(input)\n",
    "print(out)"
   ]
  },
  {
   "cell_type": "markdown",
   "metadata": {},
   "source": [
    "### Calculate Loss $L(\\theta)$"
   ]
  },
  {
   "cell_type": "code",
   "execution_count": 100,
   "metadata": {},
   "outputs": [
    {
     "name": "stdout",
     "output_type": "stream",
     "text": [
      "False\n",
      "False\n",
      "tensor(1.0311, grad_fn=<MseLossBackward>)\n"
     ]
    }
   ],
   "source": [
    "input = torch.randn(10, 1)\n",
    "target = torch.ones(10, 1)\n",
    "print(input.requires_grad)\n",
    "print(target.requires_grad)\n",
    "\n",
    "ffnet = FFNetwork(10)\n",
    "\n",
    "# Mean squared error of the minibatch with 10 samples\n",
    "loss_func = nn.MSELoss()\n",
    "\n",
    "out = ffnet(input)\n",
    "loss = loss_func(out, target)\n",
    "print(loss)"
   ]
  },
  {
   "cell_type": "markdown",
   "metadata": {},
   "source": [
    "### Calculate $\\nabla_\\theta L(\\theta, x)|_{x=x_0}$"
   ]
  },
  {
   "cell_type": "code",
   "execution_count": 101,
   "metadata": {},
   "outputs": [
    {
     "name": "stdout",
     "output_type": "stream",
     "text": [
      "ffnet.fc1.[param].grad before backward\n",
      "None\n",
      "None\n",
      "---\n",
      "ffnet.fc1.[param].grad after backward\n",
      "tensor([ 1.9350e-02, -1.6908e-01,  1.3575e-02, -9.5872e-05,  9.6607e-05,\n",
      "        -2.0997e-01,  2.9409e-01,  2.8184e-02,  5.8546e-02,  5.0708e-04])\n",
      "tensor([[-0.0449],\n",
      "        [ 0.0268],\n",
      "        [-0.0186],\n",
      "        [ 0.0003],\n",
      "        [ 0.0008],\n",
      "        [-0.2010],\n",
      "        [ 0.1400],\n",
      "        [ 0.0351],\n",
      "        [ 0.0057],\n",
      "        [ 0.0042]])\n"
     ]
    }
   ],
   "source": [
    "input = torch.randn(10, 1)\n",
    "target = torch.ones(10, 1)\n",
    "\n",
    "ffnet = FFNetwork(10)\n",
    "\n",
    "out = ffnet(input)\n",
    "loss_func = nn.MSELoss()\n",
    "loss = loss_func(out, target)\n",
    "\n",
    "ffnet.zero_grad()\n",
    "print(\"ffnet.fc1.[param].grad before backward\")\n",
    "print(ffnet.fc1.bias.grad)\n",
    "print(ffnet.fc1.weight.grad)\n",
    "print(\"---\")\n",
    "\n",
    "loss.backward()\n",
    "print(\"ffnet.fc1.[param].grad after backward\")\n",
    "print(ffnet.fc1.bias.grad)\n",
    "print(ffnet.fc1.weight.grad)"
   ]
  },
  {
   "cell_type": "markdown",
   "metadata": {},
   "source": [
    "### Update $\\theta \\leftarrow \\theta + \\alpha \\nabla_\\theta L(\\theta, x)|_{x=x_0}$"
   ]
  },
  {
   "cell_type": "markdown",
   "metadata": {},
   "source": [
    "#### Individual parameter update"
   ]
  },
  {
   "cell_type": "code",
   "execution_count": 102,
   "metadata": {},
   "outputs": [
    {
     "name": "stdout",
     "output_type": "stream",
     "text": [
      "tensor([[0.9231],\n",
      "        [0.9233],\n",
      "        [1.3031],\n",
      "        [0.8204],\n",
      "        [0.9104],\n",
      "        [0.9550],\n",
      "        [0.8514],\n",
      "        [0.9461],\n",
      "        [1.0208],\n",
      "        [0.8067]])\n"
     ]
    },
    {
     "data": {
      "image/png": "[encoded data removed]",
      "text/plain": [
       "<Figure size 432x288 with 1 Axes>"
      ]
     },
     "metadata": {},
     "output_type": "display_data"
    }
   ],
   "source": [
    "input = torch.randn(10, 1)\n",
    "target = torch.ones(10, 1)\n",
    "\n",
    "ffnet = FFNetwork(n_hidden=50)\n",
    "learning_rate = 0.001\n",
    "\n",
    "out = ffnet(input)\n",
    "loss_func = nn.MSELoss()\n",
    "loss = loss_func(out, target)\n",
    "\n",
    "loss_hist_sgd = [loss.detach()]\n",
    "for i in range(300):\n",
    "    ffnet.zero_grad()\n",
    "    loss.backward()\n",
    "    for f in ffnet.parameters():\n",
    "        f.data.sub_(f.grad.data * learning_rate)\n",
    "        \n",
    "    loss = loss_func(ffnet(input), target)\n",
    "    loss_hist_sgd.append(loss.detach())\n",
    "\n",
    "plt.plot(loss_hist_sgd)\n",
    "out = ffnet.forward(input)\n",
    "print(out.detach())"
   ]
  },
  {
   "cell_type": "markdown",
   "metadata": {},
   "source": [
    "#### Update by using Optimizer"
   ]
  },
  {
   "cell_type": "code",
   "execution_count": 103,
   "metadata": {},
   "outputs": [
    {
     "data": {
      "text/plain": [
       "<matplotlib.legend.Legend at 0x131190a90>"
      ]
     },
     "execution_count": 103,
     "metadata": {},
     "output_type": "execute_result"
    },
    {
     "data": {
      "image/png": "[encoded data removed]",
      "text/plain": [
       "<Figure size 432x288 with 1 Axes>"
      ]
     },
     "metadata": {},
     "output_type": "display_data"
    }
   ],
   "source": [
    "input = torch.randn(10, 1)\n",
    "target = torch.ones(10, 1)\n",
    "\n",
    "ffnet = FFNetwork(50)\n",
    "learning_rate = 0.001\n",
    "\n",
    "optimizer = optim.Adam(ffnet.parameters(), lr=learning_rate)\n",
    "\n",
    "loss_func = nn.MSELoss()\n",
    "loss = loss_func(ffnet(input), target)\n",
    "loss_hist_adam = [loss.detach()]\n",
    "\n",
    "for i in range(300):\n",
    "    optimizer.zero_grad()\n",
    "    loss = loss_func(ffnet(input), target)\n",
    "    loss_hist_adam.append(loss.detach())\n",
    "    loss.backward()\n",
    "    optimizer.step()\n",
    "\n",
    "plt.plot(loss_hist_sgd, label=\"sgd\")\n",
    "plt.plot(loss_hist_adam, label=\"adam\")\n",
    "plt.legend(loc=\"best\")"
   ]
  },
  {
   "cell_type": "markdown",
   "metadata": {},
   "source": [
    "### Update weight by minibatch $\\frac{1}{N} \\sum_{n=1}^N \\nabla_\\theta L(\\theta, x)|_{x=x_n}$"
   ]
  },
  {
   "cell_type": "code",
   "execution_count": 104,
   "metadata": {},
   "outputs": [
    {
     "data": {
      "text/plain": [
       "<matplotlib.legend.Legend at 0x130ecb358>"
      ]
     },
     "execution_count": 104,
     "metadata": {},
     "output_type": "execute_result"
    },
    {
     "data": {
      "image/png": "[encoded data removed]",
      "text/plain": [
       "<Figure size 432x288 with 1 Axes>"
      ]
     },
     "metadata": {},
     "output_type": "display_data"
    }
   ],
   "source": [
    "n = 50\n",
    "input = torch.randn(n, 1)\n",
    "target = torch.ones(n, 1)\n",
    "\n",
    "ffnet = FFNetwork(50)\n",
    "learning_rate = 0.001\n",
    "\n",
    "optimizer = optim.Adam(ffnet.parameters(), lr=learning_rate)\n",
    "\n",
    "loss_func = nn.MSELoss()\n",
    "loss = loss_func(ffnet.forward(input), target)\n",
    "loss_hist_adam = [loss.detach()]\n",
    "\n",
    "for i in range(300):\n",
    "    optimizer.zero_grad()\n",
    "    loss = loss_func(ffnet.forward(input), target)\n",
    "    loss_hist_adam.append(loss.detach())\n",
    "    loss.backward()\n",
    "    optimizer.step()\n",
    "\n",
    "plt.plot(loss_hist_adam, label=\"adam\")\n",
    "plt.legend(loc=\"best\")"
   ]
  },
  {
   "cell_type": "markdown",
   "metadata": {},
   "source": [
    "### Calculate $\\nabla_x L(\\theta, x)|_{x=x_0}$"
   ]
  },
  {
   "cell_type": "code",
   "execution_count": 105,
   "metadata": {},
   "outputs": [
    {
     "name": "stdout",
     "output_type": "stream",
     "text": [
      "weight gradient ---\n",
      "Absolute difference of weight from initial weights : -1.2874603271484375e-05\n",
      "input gradient ----- \n",
      "tensor([-0.0041])\n",
      "tensor([0.1000], grad_fn=<SubBackward0>)\n"
     ]
    }
   ],
   "source": [
    "input = torch.zeros(1, requires_grad=True)\n",
    "input_0 = torch.zeros_like(input, requires_grad=False)\n",
    "target = torch.ones(1)\n",
    "\n",
    "ffnet = FFNetwork(50)\n",
    "learning_rate = 0.1\n",
    "\n",
    "optimizer = optim.Adam([input], lr=learning_rate)\n",
    "# Update with network parameters\n",
    "#optimizer = optim.Adam([input] + [w for w in ffnet.parameters()], lr=learning_rate)\n",
    "\n",
    "loss_func = nn.MSELoss()\n",
    "y = ffnet(input)\n",
    "optimizer.zero_grad()\n",
    "\n",
    "sum_w = 0\n",
    "for w in ffnet.parameters():\n",
    "    sum_w += torch.sum(torch.abs(w))\n",
    "\n",
    "loss = loss_func(y, target)\n",
    "loss.backward()\n",
    "optimizer.step()\n",
    "\n",
    "print(\"weight gradient ---\")\n",
    "for w in ffnet.parameters():\n",
    "    sum_w -= torch.sum(torch.abs(w))\n",
    "print(f\"Absolute difference of weight from initial weights : {sum_w}\")\n",
    "print(\"input gradient ----- \")\n",
    "print(input.grad)\n",
    "print(input - input_0)"
   ]
  },
  {
   "cell_type": "markdown",
   "metadata": {},
   "source": [
    "### Update $x \\leftarrow x + \\alpha \\nabla_x L(\\theta, x)|_x$"
   ]
  },
  {
   "cell_type": "code",
   "execution_count": 125,
   "metadata": {},
   "outputs": [
    {
     "name": "stdout",
     "output_type": "stream",
     "text": [
      "weight gradient ---\n",
      "Absolute difference of weight from initial weights : -6.541609764099121e-06\n",
      "input gradient ----- \n",
      "tensor([0.])\n",
      "tensor([-3.5146], grad_fn=<SubBackward0>)\n"
     ]
    },
    {
     "data": {
      "image/png": "[encoded data removed]",
      "text/plain": [
       "<Figure size 432x288 with 1 Axes>"
      ]
     },
     "metadata": {},
     "output_type": "display_data"
    }
   ],
   "source": [
    "input = torch.zeros(1, requires_grad=True)\n",
    "target = torch.ones(1)\n",
    "\n",
    "ffnet = FFNetwork(50)\n",
    "learning_rate = 0.1\n",
    "\n",
    "optimizer = optim.Adam([input], lr=learning_rate)\n",
    "# Update with network parameters\n",
    "#optimizer = optim.Adam([input] + [w for w in ffnet.parameters()], lr=learning_rate)\n",
    "\n",
    "loss_func = nn.MSELoss()\n",
    "y = ffnet(input)\n",
    "hist_adam = [y.detach()]\n",
    "\n",
    "sum_w = 0\n",
    "for w in ffnet.parameters():\n",
    "    sum_w -= torch.sum(torch.abs(w))\n",
    "\n",
    "# Update Rule\n",
    "for i in range(500):\n",
    "    optimizer.zero_grad()\n",
    "    loss = loss_func(y, target)\n",
    "    loss.backward()\n",
    "    optimizer.step()\n",
    "    y = ffnet(input)\n",
    "    hist_adam.append(y.detach())\n",
    "\n",
    "plt.plot(hist_adam, label=\"output\")\n",
    "plt.plot([1.0]*len(hist_adam), \"--\", label=\"target\")\n",
    "plt.legend(loc=\"best\")\n",
    "\n",
    "print(\"weight gradient ---\")\n",
    "for w in ffnet.parameters():\n",
    "    sum_w += torch.sum(torch.abs(w))\n",
    "print(f\"Absolute difference of weight from initial weights : {sum_w}\")\n",
    "print(\"input gradient ----- \")\n",
    "print(input.grad)\n",
    "print(input - input_0)"
   ]
  },
  {
   "cell_type": "markdown",
   "metadata": {},
   "source": [
    "### Copy $\\theta_1$ to $\\theta_2$"
   ]
  },
  {
   "cell_type": "code",
   "execution_count": 96,
   "metadata": {},
   "outputs": [
    {
     "data": {
      "text/plain": [
       "<All keys matched successfully>"
      ]
     },
     "execution_count": 96,
     "metadata": {},
     "output_type": "execute_result"
    }
   ],
   "source": [
    "n = 50\n",
    "learning_rate = 0.001\n",
    "\n",
    "input = torch.randn(n, 1)\n",
    "target = torch.ones(n, 1)\n",
    "ffnet1 = FFNetwork(50)\n",
    "\n",
    "# Copy Network\n",
    "ffnet2 = FFNetwork(50)\n",
    "ffnet2.load_state_dict(ffnet1.state_dict())"
   ]
  },
  {
   "cell_type": "markdown",
   "metadata": {},
   "source": [
    "### Copy $\\theta_1$ to $\\theta_2$ and update only $\\theta_1$ by $\\theta \\leftarrow \\theta + \\alpha \\nabla_\\theta L(\\theta, x)|_{x=x_0}$"
   ]
  },
  {
   "cell_type": "code",
   "execution_count": 97,
   "metadata": {},
   "outputs": [
    {
     "data": {
      "text/plain": [
       "<matplotlib.legend.Legend at 0x130e9acc0>"
      ]
     },
     "execution_count": 97,
     "metadata": {},
     "output_type": "execute_result"
    },
    {
     "data": {
      "image/png": "[encoded data removed]",
      "text/plain": [
       "<Figure size 432x288 with 1 Axes>"
      ]
     },
     "metadata": {},
     "output_type": "display_data"
    }
   ],
   "source": [
    "n = 50\n",
    "learning_rate = 0.001\n",
    "\n",
    "input = torch.randn(n, 1)\n",
    "target = torch.ones(n, 1)\n",
    "ffnet1 = FFNetwork(50)\n",
    "\n",
    "# Copy Network\n",
    "ffnet2 = FFNetwork(50)\n",
    "ffnet2.load_state_dict(ffnet1.state_dict())\n",
    "\n",
    "optimizer = optim.Adam(ffnet1.parameters(), lr=learning_rate)\n",
    "\n",
    "loss_func = nn.MSELoss()\n",
    "loss1 = loss_func(ffnet1(input), target)\n",
    "loss1_hist_adam = [loss1.detach()]\n",
    "loss2 = loss_func(ffnet2(input), target)\n",
    "loss2_hist_adam = [loss2.detach()]\n",
    "\n",
    "for i in range(300):\n",
    "    optimizer.zero_grad()\n",
    "    \n",
    "    loss1 = loss_func(ffnet1(input), target)\n",
    "    loss1_hist_adam.append(loss1.detach())\n",
    "    loss2 = loss_func(ffnet2(input), target)\n",
    "    loss2_hist_adam.append(loss2.detach())\n",
    "    \n",
    "    loss1.backward()\n",
    "    optimizer.step()\n",
    "    \n",
    "    # Copy 2nd Nework Parameters into 1st Network every 100 steps\n",
    "    if i % 100 == 0:\n",
    "        ffnet1.load_state_dict(ffnet2.state_dict())\n",
    "\n",
    "plt.plot(loss1_hist_adam, label=\"ffnet1 loss\")\n",
    "plt.plot(loss2_hist_adam, \"--\", label=\"ffnet2 loss\")\n",
    "plt.legend(loc=\"best\")"
   ]
  },
  {
   "cell_type": "markdown",
   "metadata": {},
   "source": [
    "### Stochastic sampling from $f_\\theta(x)$"
   ]
  },
  {
   "cell_type": "code",
   "execution_count": 165,
   "metadata": {},
   "outputs": [
    {
     "data": {
      "text/plain": [
       "(-1.0, 1.0)"
      ]
     },
     "execution_count": 165,
     "metadata": {},
     "output_type": "execute_result"
    },
    {
     "data": {
      "image/png": "[encoded data removed]",
      "text/plain": [
       "<Figure size 432x288 with 1 Axes>"
      ]
     },
     "metadata": {},
     "output_type": "display_data"
    }
   ],
   "source": [
    "n = 1\n",
    "learning_rate = 0.001\n",
    "\n",
    "input = torch.randn(n, 1)\n",
    "target = torch.ones(n, 1)\n",
    "ffnet = FFNetwork(50)\n",
    "\n",
    "mu = ffnet(input)\n",
    "sigma = 0.2\n",
    "\n",
    "sample_list = []\n",
    "for i in range(100):\n",
    "    sample = mu + sigma * torch.randn_like(mu)\n",
    "    sample_list.append(sample.detach()[0])\n",
    "\n",
    "plt.plot([mu.detach()[0]] * 100, \"--\", label=\"mean\")\n",
    "plt.plot(sample_list, \"o\", label=\"samples\")\n",
    "plt.ylim([-1, 1])"
   ]
  },
  {
   "cell_type": "markdown",
   "metadata": {},
   "source": [
    "### Inject noise (reparametrization trick) and cal grad $\\nabla_\\theta f_\\theta(x, \\epsilon)$, $\\epsilon\\sim {\\cal N}(\\mu, \\sigma^2)$"
   ]
  },
  {
   "cell_type": "code",
   "execution_count": 130,
   "metadata": {},
   "outputs": [
    {
     "name": "stdout",
     "output_type": "stream",
     "text": [
      " sum_grad_abs : 49.45521926879883\n"
     ]
    }
   ],
   "source": [
    "class ProbabilisticFFNetwork(nn.Module):\n",
    "    # One input, one output, two hidden layers\n",
    "\n",
    "    def __init__(self, n_hidden):\n",
    "        super(ProbabilisticFFNetwork, self).__init__()\n",
    "        \n",
    "        self.fc1 = nn.Linear(in_features=1, out_features=n_hidden)\n",
    "        self.fc2 = nn.Linear(in_features=n_hidden, out_features=n_hidden)\n",
    "        self.fc3_mean = nn.Linear(in_features=n_hidden, out_features=1)\n",
    "        self.fc3_std = nn.Linear(in_features=n_hidden, out_features=1)\n",
    "    \n",
    "    def forward(self, x):\n",
    "        h = F.leaky_relu(self.fc1(x))\n",
    "        h = F.leaky_relu(self.fc2(h))\n",
    "        mean = self.fc3_mean(h)\n",
    "        std = self.fc3_std(h)\n",
    "        return mean, std\n",
    "    \n",
    "    def sample(self, x):\n",
    "        mu, std = self.forward(x)\n",
    "        return mu + std * torch.randn_like(mu)\n",
    "\n",
    "n = 1\n",
    "learning_rate = 0.001\n",
    "\n",
    "# Target distribution\n",
    "target_mu = 1.0\n",
    "target_std = 1.0\n",
    "\n",
    "input = torch.randn(n, 1)\n",
    "target = torch.ones(n, 1)\n",
    "ffnet = ProbabilisticFFNetwork(50)\n",
    "\n",
    "f = ffnet.sample(input)\n",
    "\n",
    "optimizer = optim.Adam(ffnet.parameters(), lr=learning_rate)\n",
    "optimizer.zero_grad()\n",
    "\n",
    "f.backward()\n",
    "\n",
    "sum_grad_w = 0\n",
    "for w in ffnet.parameters():\n",
    "    sum_grad_w += torch.sum(torch.abs(w.grad))\n",
    "    \n",
    "print(f\" sum_grad_abs : {sum_grad_w}\")"
   ]
  },
  {
   "cell_type": "markdown",
   "metadata": {},
   "source": [
    "### Use weighted update $\\theta \\leftarrow \\theta + \\alpha \\delta \\nabla_\\theta L(\\theta, x)|_{x=x_0}$, $\\delta  = f_\\theta(x) - \\theta_0$"
   ]
  },
  {
   "cell_type": "code",
   "execution_count": 294,
   "metadata": {},
   "outputs": [
    {
     "data": {
      "text/plain": [
       "<matplotlib.legend.Legend at 0x13b649eb8>"
      ]
     },
     "execution_count": 294,
     "metadata": {},
     "output_type": "execute_result"
    },
    {
     "data": {
      "image/png": "[encoded data removed]",
      "text/plain": [
       "<Figure size 432x288 with 2 Axes>"
      ]
     },
     "metadata": {},
     "output_type": "display_data"
    }
   ],
   "source": [
    "class ProbabilisticFFNetwork(nn.Module):\n",
    "    # One input, one output, two hidden layers\n",
    "\n",
    "    def __init__(self, n_hidden):\n",
    "        super(ProbabilisticFFNetwork, self).__init__()\n",
    "        \n",
    "        self.fc1 = nn.Linear(in_features=1, out_features=n_hidden)\n",
    "        self.fc2 = nn.Linear(in_features=n_hidden, out_features=n_hidden)\n",
    "        self.fc3 = nn.Linear(in_features=n_hidden, out_features=1)\n",
    "    \n",
    "    def forward(self, x):\n",
    "        h = F.leaky_relu(self.fc1(x))\n",
    "        h = F.leaky_relu(self.fc2(h))\n",
    "        mean = torch.tanh(self.fc3(h))\n",
    "        return mean\n",
    "    \n",
    "    def sample(self, x):\n",
    "        mu = self.forward(x)\n",
    "        return mu + 0.2*torch.randn_like(mu)\n",
    "\n",
    "\n",
    "value_net = FFNetwork(100)\n",
    "policy_net = ProbabilisticFFNetwork(200)\n",
    "\n",
    "optimizer_value = optim.Adam(value_net.parameters(), lr=0.01, eps=0.1, weight_decay=0.01)\n",
    "optimizer_policy = optim.Adam(policy_net.parameters(), lr=0.001, eps=0.1, weight_decay=0.01)\n",
    "\n",
    "for i in range(3000):\n",
    "    # Environment: contextual bandit\n",
    "    obs = 2.0 * (torch.rand(1) - 0.5)\n",
    "    action = policy_net.sample(input).detach()\n",
    "    if obs > 0:\n",
    "        if action[0] >= 0:\n",
    "            reward = +1.0\n",
    "        else:\n",
    "            reward = -1.0\n",
    "    else:\n",
    "        if action[0] >= 0:\n",
    "            reward = -1.0\n",
    "        else:\n",
    "            reward = +1.0\n",
    "    #print(f\"{obs} : {action} : {reward}\")\n",
    "\n",
    "    # Updates\n",
    "    optimizer_value.zero_grad()\n",
    "    optimizer_policy.zero_grad()\n",
    "\n",
    "    # Value Update\n",
    "    loss_value = torch.square(value_net(obs) - torch.tensor([reward]))\n",
    "    loss_value.backward()\n",
    "    optimizer_value.step()\n",
    "\n",
    "    # Policy Update\n",
    "    td_error = reward - value_net(obs)\n",
    "    mean = policy_net(obs)\n",
    "    loss_policy = td_error.detach() * torch.square(action - mean)\n",
    "    loss_policy.backward()\n",
    "    optimizer_policy.step()\n",
    "\n",
    "x = torch.tensor([[v] for v in np.linspace(-1, 1, 100)], dtype=torch.float)\n",
    "val = value_net(x).detach()\n",
    "u = policy_net(x).detach()\n",
    "\n",
    "plt.subplot(2,1,1)\n",
    "plt.plot(x, val,label=\"value\")\n",
    "plt.legend(loc=\"best\")\n",
    "plt.subplot(2,1,2)\n",
    "plt.plot(x, u,label=\"action\")\n",
    "plt.ylim([-1.2, 1.2])\n",
    "plt.legend(loc=\"best\")"
   ]
  },
  {
   "cell_type": "markdown",
   "metadata": {},
   "source": [
    "### Use noisy weight $f(x, \\theta + \\epsilon)$, $\\epsilon \\sim {\\cal N}(1, 0)$"
   ]
  },
  {
   "cell_type": "code",
   "execution_count": 326,
   "metadata": {},
   "outputs": [
    {
     "data": {
      "text/plain": [
       "<matplotlib.legend.Legend at 0x13d310ba8>"
      ]
     },
     "execution_count": 326,
     "metadata": {},
     "output_type": "execute_result"
    },
    {
     "data": {
      "image/png": "[encoded data removed]",
      "text/plain": [
       "<Figure size 432x288 with 1 Axes>"
      ]
     },
     "metadata": {},
     "output_type": "display_data"
    }
   ],
   "source": [
    "from collections import OrderedDict\n",
    "\n",
    "ffnet1 = FFNetwork(50)\n",
    "ffnet2 = FFNetwork(50)\n",
    "\n",
    "# Plot\n",
    "x = torch.tensor([[v] for v in np.linspace(-10, 10, 100)], dtype=torch.float)\n",
    "\n",
    "for i in range(100):\n",
    "    # Weight fluctuation\n",
    "    dict_new = OrderedDict(\n",
    "        [(k, v + torch.randn_like(v)) for (k, v) in ffnet1.state_dict().items()]\n",
    "    )\n",
    "    ffnet2.load_state_dict(dict_new)\n",
    "    # Plot\n",
    "    plt.plot(x, ffnet2(x).detach(), \"b\", alpha=0.5)\n",
    "    \n",
    "plt.plot(x, ffnet1(x).detach(), \"r\", label=\"original\")\n",
    "plt.legend(loc=\"best\")"
   ]
  },
  {
   "cell_type": "markdown",
   "metadata": {},
   "source": [
    "### Update $\\theta$ by the approximated variational method"
   ]
  },
  {
   "cell_type": "code",
   "execution_count": null,
   "metadata": {},
   "outputs": [],
   "source": []
  },
  {
   "cell_type": "markdown",
   "metadata": {},
   "source": [
    "# Convolution Neural Networks"
   ]
  },
  {
   "cell_type": "markdown",
   "metadata": {},
   "source": [
    "### Define CNN $f_\\theta(x)$"
   ]
  },
  {
   "cell_type": "code",
   "execution_count": null,
   "metadata": {},
   "outputs": [],
   "source": []
  },
  {
   "cell_type": "markdown",
   "metadata": {},
   "source": [
    "### Update weight by minibatch for CNN"
   ]
  },
  {
   "cell_type": "code",
   "execution_count": null,
   "metadata": {},
   "outputs": [],
   "source": []
  },
  {
   "cell_type": "markdown",
   "metadata": {},
   "source": [
    "### Update $x \\leftarrow x + \\alpha \\nabla_x L(\\theta, x)|_x$ for CNN"
   ]
  },
  {
   "cell_type": "code",
   "execution_count": null,
   "metadata": {},
   "outputs": [],
   "source": []
  },
  {
   "cell_type": "markdown",
   "metadata": {},
   "source": [
    "# Recurrent Neural Networks"
   ]
  },
  {
   "cell_type": "markdown",
   "metadata": {},
   "source": [
    "### Define RNN $f_\\theta(x_0, x_1, \\dots, x_T)$"
   ]
  },
  {
   "cell_type": "code",
   "execution_count": null,
   "metadata": {},
   "outputs": [],
   "source": []
  },
  {
   "cell_type": "markdown",
   "metadata": {},
   "source": [
    "### Update weight by minibatch for RNN"
   ]
  },
  {
   "cell_type": "code",
   "execution_count": null,
   "metadata": {},
   "outputs": [],
   "source": []
  },
  {
   "cell_type": "markdown",
   "metadata": {},
   "source": [
    "### Update $x \\leftarrow x + \\alpha \\nabla_x L(\\theta, x)|_x$ for RNN"
   ]
  },
  {
   "cell_type": "code",
   "execution_count": null,
   "metadata": {},
   "outputs": [],
   "source": []
  }
 ],
 "metadata": {
  "kernelspec": {
   "display_name": "Python 3",
   "language": "python",
   "name": "python3"
  },
  "language_info": {
   "codemirror_mode": {
    "name": "ipython",
    "version": 3
   },
   "file_extension": ".py",
   "mimetype": "text/x-python",
   "name": "python",
   "nbconvert_exporter": "python",
   "pygments_lexer": "ipython3",
   "version": "3.6.7"
  }
 },
 "nbformat": 4,
 "nbformat_minor": 4
}
