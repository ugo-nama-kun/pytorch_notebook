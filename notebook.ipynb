{
 "cells": [
  {
   "cell_type": "markdown",
   "metadata": {},
   "source": [
    "# Pytorch Notebook"
   ]
  },
  {
   "cell_type": "code",
   "execution_count": 99,
   "metadata": {},
   "outputs": [],
   "source": [
    "import torch\n",
    "import torch.nn as nn\n",
    "import torch.nn.functional as F\n",
    "import torch.optim as optim\n",
    "\n",
    "import pyro\n",
    "import pyro.distributions as dist\n",
    "import pyro.optim as optim_pyro\n",
    "\n",
    "import torchvision\n",
    "import numpy as np\n",
    "\n",
    "import seaborn as sns\n",
    "import matplotlib.pyplot as plt\n",
    "%matplotlib inline\n",
    "sns.set()"
   ]
  },
  {
   "cell_type": "markdown",
   "metadata": {},
   "source": [
    "## Pytorch basics\n",
    "If you are using jupyterlab, enable \"show contextual help\" for checking the definitions of functions!"
   ]
  },
  {
   "cell_type": "code",
   "execution_count": 2,
   "metadata": {},
   "outputs": [
    {
     "name": "stdout",
     "output_type": "stream",
     "text": [
      "tensor([[1., 1., 1., 1.],\n",
      "        [1., 1., 1., 1.],\n",
      "        [1., 1., 1., 1.]])\n",
      "tensor([[1., 1., 1., 1., 1., 1., 1., 1., 1., 1., 1., 1.]])\n",
      "tensor([[1., 1., 1., 1., 1., 1.],\n",
      "        [1., 1., 1., 1., 1., 1.]])\n",
      "torch.Size([3, 4])\n",
      "tensor([[1.9885, 1.5953, 1.1248, 1.4521],\n",
      "        [1.7281, 1.3659, 1.6528, 1.3842],\n",
      "        [1.1726, 1.2522, 1.9834, 1.5286]])\n"
     ]
    }
   ],
   "source": [
    "# Get variables\n",
    "x = torch.ones(3, 4)\n",
    "\n",
    "print(x)\n",
    "print(x.view(1, 12))\n",
    "print(x.view(2, -1))\n",
    "\n",
    "y = torch.rand(3, 4)\n",
    "z = x + y\n",
    "\n",
    "print(z.size())\n",
    "print(z)"
   ]
  },
  {
   "cell_type": "code",
   "execution_count": 3,
   "metadata": {},
   "outputs": [
    {
     "name": "stdout",
     "output_type": "stream",
     "text": [
      "tensor([[1., 1.]], requires_grad=True)\n",
      "tensor([[4., 4.]], grad_fn=<AddBackward0>)\n",
      "<AddBackward0 object at 0x12db9eb70>\n",
      "tensor([[48., 48.]], grad_fn=<MulBackward0>) tensor(48., grad_fn=<MeanBackward0>)\n"
     ]
    }
   ],
   "source": [
    "# Auto grad basics\n",
    "x = torch.ones(1, 2, requires_grad=True)\n",
    "print(x)\n",
    "\n",
    "y = 2 * x + 2\n",
    "print(y)\n",
    "print(y.grad_fn)\n",
    "\n",
    "z = y * y * 3\n",
    "out = z.mean()\n",
    "print(z, out)\n",
    "\n",
    "# , detach"
   ]
  },
  {
   "cell_type": "code",
   "execution_count": 4,
   "metadata": {},
   "outputs": [
    {
     "name": "stdout",
     "output_type": "stream",
     "text": [
      "False\n",
      "True\n",
      "<SumBackward0 object at 0x12db9edd8>\n"
     ]
    }
   ],
   "source": [
    "x = torch.randn(2, 2)  # <-- for constants, requires_grad is initially False\n",
    "x = ((x * 3) / (x - 1))\n",
    "print(x.requires_grad)\n",
    "\n",
    "x.requires_grad_(True) # <-- Switch requires_grad by hand\n",
    "print(x.requires_grad)\n",
    "\n",
    "y = (x ** 2).sum()\n",
    "print(y.grad_fn)"
   ]
  },
  {
   "cell_type": "markdown",
   "metadata": {},
   "source": [
    "### backward"
   ]
  },
  {
   "cell_type": "code",
   "execution_count": 5,
   "metadata": {},
   "outputs": [
    {
     "name": "stdout",
     "output_type": "stream",
     "text": [
      "tensor([[1., 1.],\n",
      "        [1., 1.]], requires_grad=True)\n",
      "True\n",
      "None\n",
      "---\n",
      "tensor([[3., 3.],\n",
      "        [3., 3.]], grad_fn=<AddBackward0>)\n",
      "True\n",
      "<AddBackward0 object at 0x12dbbeb00>\n",
      "---\n",
      "tensor([[27., 27.],\n",
      "        [27., 27.]], grad_fn=<MulBackward0>) tensor(27., grad_fn=<MeanBackward0>)\n",
      "True True\n",
      "<MulBackward0 object at 0x12dbbeb00> <MeanBackward0 object at 0x12dbbebe0>\n",
      "---\n",
      "tensor([[4.5000, 4.5000],\n",
      "        [4.5000, 4.5000]])\n"
     ]
    }
   ],
   "source": [
    "x = torch.ones(2, 2, requires_grad=True) # <-- enable grad calculation\n",
    "print(x)\n",
    "print(x.requires_grad)\n",
    "print(x.grad_fn)\n",
    "print(\"---\")\n",
    "\n",
    "y = x + 2\n",
    "print(y)\n",
    "print(y.requires_grad)\n",
    "print(y.grad_fn)\n",
    "print(\"---\")\n",
    "\n",
    "z = y * y * 3\n",
    "out = z.mean()\n",
    "print(z, out)\n",
    "print(z.requires_grad, out.requires_grad)\n",
    "print(z.grad_fn, out.grad_fn)\n",
    "print(\"---\")\n",
    "\n",
    "out.backward() # <-- run backprop\n",
    "print(x.grad)\n",
    "\n",
    "# running backward() multiple times elicit an error\n",
    "#out.backward() # <-- run backprop\n",
    "#print(x.grad)"
   ]
  },
  {
   "cell_type": "markdown",
   "metadata": {},
   "source": [
    "### vector-Jacobian product\n",
    "This characteristic of vector-Jacobian product makes it very convenient to feed external gradients into a model that has non-scalar output.\n",
    "\n",
    "Now in this case y is no longer a scalar. torch.autograd could not compute the full Jacobian directly, but if we just want the vector-Jacobian product, simply pass the vector to backward as argument. $J$ is jacobian. and ${\\rm x\\_grad} = J^\\top v$. If the backward target is a scalar function, $v = (\\frac{l}{y_1}, \\cdots, \\frac{l}{y_m})^\\top$"
   ]
  },
  {
   "cell_type": "code",
   "execution_count": 6,
   "metadata": {},
   "outputs": [
    {
     "name": "stdout",
     "output_type": "stream",
     "text": [
      "norm : 3.464101552963257\n",
      "tensor([2., 2., 2.], grad_fn=<MulBackward0>)\n",
      "norm : 6.928203105926514\n",
      "tensor([4., 4., 4.], grad_fn=<MulBackward0>)\n",
      "norm : 13.856406211853027\n",
      "tensor([8., 8., 8.], grad_fn=<MulBackward0>)\n",
      "norm : 27.712812423706055\n",
      "tensor([16., 16., 16.], grad_fn=<MulBackward0>)\n",
      "norm : 55.42562484741211\n",
      "tensor([32., 32., 32.], grad_fn=<MulBackward0>)\n",
      "norm : 110.85124969482422\n",
      "tensor([64., 64., 64.], grad_fn=<MulBackward0>)\n",
      "norm : 221.70249938964844\n",
      "tensor([128., 128., 128.], grad_fn=<MulBackward0>)\n",
      "norm : 443.4049987792969\n",
      "tensor([256., 256., 256.], grad_fn=<MulBackward0>)\n",
      "norm : 886.8099975585938\n",
      "tensor([512., 512., 512.], grad_fn=<MulBackward0>)\n",
      "norm : 1773.6199951171875\n",
      "tensor([1024., 1024., 1024.], grad_fn=<MulBackward0>)\n",
      "tensor([1.0240e+02, 1.0240e+03, 1.0240e-01])\n"
     ]
    }
   ],
   "source": [
    "x = torch.ones(3, requires_grad=True)\n",
    "y = x * 2\n",
    "\n",
    "print(f\"norm : {y.data.norm()}\")\n",
    "print(y)\n",
    "while y.data.norm() < 1000:\n",
    "    y = y * 2\n",
    "    print(f\"norm : {y.data.norm()}\")\n",
    "    print(y)\n",
    "\n",
    "v = torch.tensor([0.1, 1.0, 0.0001], dtype=torch.float)\n",
    "y.backward(v)\n",
    "print(x.grad)"
   ]
  },
  {
   "cell_type": "markdown",
   "metadata": {},
   "source": [
    "### Stop autograd by wrapping with no_grad"
   ]
  },
  {
   "cell_type": "code",
   "execution_count": 7,
   "metadata": {},
   "outputs": [
    {
     "name": "stdout",
     "output_type": "stream",
     "text": [
      "tensor([[1., 1.],\n",
      "        [1., 1.]], requires_grad=True)\n",
      "True\n",
      "False\n"
     ]
    }
   ],
   "source": [
    "x = torch.ones(2, 2, requires_grad=True)\n",
    "print(x)\n",
    "print((x ** 2).requires_grad)\n",
    "\n",
    "# stop autograd and block \n",
    "with torch.no_grad():\n",
    "    print((x ** 2).requires_grad)"
   ]
  },
  {
   "cell_type": "markdown",
   "metadata": {},
   "source": [
    "### Use detach() to get a \"new\" Tensor with the same content but that does not require gradient"
   ]
  },
  {
   "cell_type": "code",
   "execution_count": 8,
   "metadata": {},
   "outputs": [
    {
     "name": "stdout",
     "output_type": "stream",
     "text": [
      "True\n",
      "False\n"
     ]
    }
   ],
   "source": [
    "x = torch.tensor([2], dtype=torch.float, requires_grad=True)\n",
    "y = torch.tensor([3], dtype=torch.float, requires_grad=True)\n",
    "\n",
    "out = (x ** 2) * (y ** 2)\n",
    "print(out.requires_grad)\n",
    "z = out.detach()\n",
    "print(z.requires_grad)\n",
    "\n",
    "# z.backward() # <-- return an error"
   ]
  },
  {
   "cell_type": "markdown",
   "metadata": {},
   "source": [
    "## Autograd and some specific topics"
   ]
  },
  {
   "cell_type": "markdown",
   "metadata": {},
   "source": [
    "### Define Fully Connected Feed Forward NN $f_{\\theta}$ "
   ]
  },
  {
   "cell_type": "code",
   "execution_count": 44,
   "metadata": {},
   "outputs": [
    {
     "name": "stdout",
     "output_type": "stream",
     "text": [
      "FFNetwork(\n",
      "  (fc1): Linear(in_features=1, out_features=10, bias=True)\n",
      "  (fc2): Linear(in_features=10, out_features=10, bias=True)\n",
      "  (fc3): Linear(in_features=10, out_features=1, bias=True)\n",
      ")\n",
      "num_params : 6\n",
      "torch.Size([10, 1])\n",
      "torch.Size([10])\n",
      "torch.Size([10, 10])\n",
      "torch.Size([10])\n",
      "torch.Size([1, 10])\n",
      "torch.Size([1])\n",
      "---\n",
      "tensor([[-1.0939],\n",
      "        [-0.3754],\n",
      "        [ 0.6130]])\n",
      "tensor([[-0.3120],\n",
      "        [-0.1881],\n",
      "        [-0.1187]], grad_fn=<AddmmBackward>)\n"
     ]
    }
   ],
   "source": [
    "class FFNetwork(nn.Module):\n",
    "    # One input, one output, two hidden layers\n",
    "\n",
    "    def __init__(self, n_hidden):\n",
    "        super(FFNetwork, self).__init__()\n",
    "        \n",
    "        self.fc1 = nn.Linear(in_features=1, out_features=n_hidden)\n",
    "        self.fc2 = nn.Linear(in_features=n_hidden, out_features=n_hidden)\n",
    "        self.fc3 = nn.Linear(in_features=n_hidden, out_features=1)\n",
    "    \n",
    "    def forward(self, x):\n",
    "        h = F.leaky_relu(self.fc1(x))\n",
    "        h = F.leaky_relu(self.fc2(h))\n",
    "        out = self.fc3(h)\n",
    "        return out\n",
    "\n",
    "ffnet = FFNetwork(10)\n",
    "print(ffnet)\n",
    "\n",
    "params = list(ffnet.parameters())\n",
    "#print(params)\n",
    "print(f\"num_params : {len(params)}\")\n",
    "for i in range(len(params)):\n",
    "    print(params[i].size())\n",
    "print(\"---\")\n",
    "\n",
    "# Trial input\n",
    "input = torch.randn(3, 1)\n",
    "print(input)\n",
    "out = ffnet(input)\n",
    "print(out)"
   ]
  },
  {
   "cell_type": "markdown",
   "metadata": {},
   "source": [
    "### Calculate Loss $L(\\theta)$"
   ]
  },
  {
   "cell_type": "code",
   "execution_count": 45,
   "metadata": {},
   "outputs": [
    {
     "name": "stdout",
     "output_type": "stream",
     "text": [
      "False\n",
      "False\n",
      "tensor(0.9102, grad_fn=<MseLossBackward>)\n"
     ]
    }
   ],
   "source": [
    "input = torch.randn(10, 1)\n",
    "target = torch.ones(10, 1)\n",
    "print(input.requires_grad)\n",
    "print(target.requires_grad)\n",
    "\n",
    "ffnet = FFNetwork(10)\n",
    "\n",
    "# Mean squared error of the minibatch with 10 samples\n",
    "loss_func = nn.MSELoss()\n",
    "\n",
    "out = ffnet(input)\n",
    "loss = loss_func(out, target)\n",
    "print(loss)"
   ]
  },
  {
   "cell_type": "markdown",
   "metadata": {},
   "source": [
    "### Calculate $\\nabla_\\theta L(\\theta, x)|_{x=x_0}$"
   ]
  },
  {
   "cell_type": "code",
   "execution_count": 47,
   "metadata": {},
   "outputs": [
    {
     "name": "stdout",
     "output_type": "stream",
     "text": [
      "ffnet.fc1.[param].grad before backward\n",
      "None\n",
      "None\n",
      "---\n",
      "ffnet.fc1.[param].grad after backward\n",
      "tensor([ 0.0220,  0.0114,  0.0113, -0.0258, -0.0010, -0.0002,  0.0251,  0.0015,\n",
      "        -0.0327, -0.0290])\n",
      "tensor([[-3.0135e-02],\n",
      "        [ 2.2638e-02],\n",
      "        [ 7.7766e-03],\n",
      "        [ 6.0437e-03],\n",
      "        [-1.9314e-03],\n",
      "        [ 3.0140e-04],\n",
      "        [-9.8141e-05],\n",
      "        [-8.3476e-04],\n",
      "        [-3.2501e-02],\n",
      "        [-2.5980e-02]])\n"
     ]
    }
   ],
   "source": [
    "input = torch.randn(10, 1)\n",
    "target = torch.ones(10, 1)\n",
    "\n",
    "ffnet = FFNetwork(10)\n",
    "\n",
    "out = ffnet(input)\n",
    "loss_func = nn.MSELoss()\n",
    "loss = loss_func(out, target)\n",
    "\n",
    "ffnet.zero_grad()\n",
    "print(\"ffnet.fc1.[param].grad before backward\")\n",
    "print(ffnet.fc1.bias.grad)\n",
    "print(ffnet.fc1.weight.grad)\n",
    "print(\"---\")\n",
    "\n",
    "loss.backward()\n",
    "print(\"ffnet.fc1.[param].grad after backward\")\n",
    "print(ffnet.fc1.bias.grad)\n",
    "print(ffnet.fc1.weight.grad)"
   ]
  },
  {
   "cell_type": "markdown",
   "metadata": {},
   "source": [
    "### Update $\\theta \\leftarrow \\theta + \\alpha \\nabla_\\theta L(\\theta, x)|_{x=x_0}$"
   ]
  },
  {
   "cell_type": "markdown",
   "metadata": {},
   "source": [
    "#### Individual parameter update"
   ]
  },
  {
   "cell_type": "code",
   "execution_count": 49,
   "metadata": {},
   "outputs": [
    {
     "name": "stdout",
     "output_type": "stream",
     "text": [
      "tensor([[0.8843],\n",
      "        [0.9317],\n",
      "        [0.8829],\n",
      "        [0.9634],\n",
      "        [1.1058],\n",
      "        [0.9798],\n",
      "        [1.2655],\n",
      "        [0.8756],\n",
      "        [0.8797],\n",
      "        [0.8911]])\n"
     ]
    },
    {
     "data": {
      "image/png": "[encoded data removed]",
      "text/plain": [
       "<Figure size 432x288 with 1 Axes>"
      ]
     },
     "metadata": {},
     "output_type": "display_data"
    }
   ],
   "source": [
    "input = torch.randn(10, 1)\n",
    "target = torch.ones(10, 1)\n",
    "\n",
    "ffnet = FFNetwork(n_hidden=50)\n",
    "learning_rate = 0.001\n",
    "\n",
    "out = ffnet(input)\n",
    "loss_func = nn.MSELoss()\n",
    "loss = loss_func(out, target)\n",
    "\n",
    "loss_hist_sgd = [loss.detach()]\n",
    "for i in range(300):\n",
    "    ffnet.zero_grad()\n",
    "    loss.backward()\n",
    "    for f in ffnet.parameters():\n",
    "        f.data.sub_(f.grad.data * learning_rate)\n",
    "        \n",
    "    loss = loss_func(ffnet(input), target)\n",
    "    loss_hist_sgd.append(loss.detach())\n",
    "\n",
    "plt.plot(loss_hist_sgd)\n",
    "out = ffnet(input)\n",
    "print(out.detach())"
   ]
  },
  {
   "cell_type": "markdown",
   "metadata": {},
   "source": [
    "#### Update by using Optimizer"
   ]
  },
  {
   "cell_type": "code",
   "execution_count": 50,
   "metadata": {},
   "outputs": [
    {
     "data": {
      "text/plain": [
       "<matplotlib.legend.Legend at 0x12f1ecef0>"
      ]
     },
     "execution_count": 50,
     "metadata": {},
     "output_type": "execute_result"
    },
    {
     "data": {
      "image/png": "[encoded data removed]",
      "text/plain": [
       "<Figure size 432x288 with 1 Axes>"
      ]
     },
     "metadata": {},
     "output_type": "display_data"
    }
   ],
   "source": [
    "input = torch.randn(10, 1)\n",
    "target = torch.ones(10, 1)\n",
    "\n",
    "ffnet = FFNetwork(50)\n",
    "learning_rate = 0.001\n",
    "\n",
    "optimizer = optim.Adam(ffnet.parameters(), lr=learning_rate)\n",
    "\n",
    "loss_func = nn.MSELoss()\n",
    "loss = loss_func(ffnet(input), target)\n",
    "loss_hist_adam = [loss.detach()]\n",
    "\n",
    "for i in range(300):\n",
    "    optimizer.zero_grad()\n",
    "    loss = loss_func(ffnet(input), target)\n",
    "    loss_hist_adam.append(loss.detach())\n",
    "    loss.backward()\n",
    "    optimizer.step()\n",
    "\n",
    "plt.plot(loss_hist_sgd, label=\"sgd\")\n",
    "plt.plot(loss_hist_adam, label=\"adam\")\n",
    "plt.legend(loc=\"best\")"
   ]
  },
  {
   "cell_type": "markdown",
   "metadata": {},
   "source": [
    "### Update weight by minibatch $\\frac{1}{N} \\sum_{n=1}^N \\nabla_\\theta L(\\theta, x)|_{x=x_n}$"
   ]
  },
  {
   "cell_type": "code",
   "execution_count": 51,
   "metadata": {},
   "outputs": [
    {
     "data": {
      "text/plain": [
       "<matplotlib.legend.Legend at 0x12f751748>"
      ]
     },
     "execution_count": 51,
     "metadata": {},
     "output_type": "execute_result"
    },
    {
     "data": {
      "image/png": "[encoded data removed]",
      "text/plain": [
       "<Figure size 432x288 with 1 Axes>"
      ]
     },
     "metadata": {},
     "output_type": "display_data"
    }
   ],
   "source": [
    "n = 50\n",
    "input = torch.randn(n, 1)\n",
    "target = torch.ones(n, 1)\n",
    "\n",
    "ffnet = FFNetwork(50)\n",
    "learning_rate = 0.001\n",
    "\n",
    "optimizer = optim.Adam(ffnet.parameters(), lr=learning_rate)\n",
    "\n",
    "loss_func = nn.MSELoss()\n",
    "loss = loss_func(ffnet(input), target)\n",
    "loss_hist_adam = [loss.detach()]\n",
    "\n",
    "for i in range(300):\n",
    "    optimizer.zero_grad()\n",
    "    loss = loss_func(ffnet(input), target)\n",
    "    loss_hist_adam.append(loss.detach())\n",
    "    loss.backward()\n",
    "    optimizer.step()\n",
    "\n",
    "plt.plot(loss_hist_adam, label=\"adam\")\n",
    "plt.legend(loc=\"best\")"
   ]
  },
  {
   "cell_type": "markdown",
   "metadata": {},
   "source": [
    "### Calculate $\\nabla_x L(\\theta, x)|_{x=x_0}$"
   ]
  },
  {
   "cell_type": "code",
   "execution_count": 86,
   "metadata": {},
   "outputs": [
    {
     "name": "stdout",
     "output_type": "stream",
     "text": [
      "weight gradient ---\n",
      "Absolute difference of weight from initial weights : -1.2516975402832031e-06\n",
      "input gradient ----- \n",
      "tensor([0.2179])\n",
      "tensor([-0.1000], grad_fn=<SubBackward0>)\n"
     ]
    }
   ],
   "source": [
    "input = torch.zeros(1, requires_grad=True)\n",
    "input_0 = torch.zeros_like(input, requires_grad=False)\n",
    "target = torch.ones(1)\n",
    "\n",
    "ffnet = FFNetwork(50)\n",
    "learning_rate = 0.1\n",
    "\n",
    "optimizer = optim.Adam([input], lr=learning_rate)\n",
    "# Update with network parameters\n",
    "#optimizer = optim.Adam([input] + [w for w in ffnet.parameters()], lr=learning_rate)\n",
    "\n",
    "loss_func = nn.MSELoss()\n",
    "y = ffnet(input)\n",
    "optimizer.zero_grad()\n",
    "\n",
    "sum_w = 0\n",
    "for w in ffnet.parameters():\n",
    "    sum_w += torch.sum(torch.abs(w))\n",
    "\n",
    "loss = loss_func(y, target)\n",
    "loss.backward()\n",
    "optimizer.step()\n",
    "\n",
    "print(\"weight gradient ---\")\n",
    "for w in ffnet.parameters():\n",
    "    sum_w -= torch.sum(torch.abs(w))\n",
    "print(f\"Absolute difference of weight from initial weights : {sum_w}\")\n",
    "print(\"input gradient ----- \")\n",
    "print(input.grad)\n",
    "print(input - input_0)"
   ]
  },
  {
   "cell_type": "markdown",
   "metadata": {},
   "source": [
    "### Update $x \\leftarrow x + \\alpha \\nabla_x L(\\theta, x)|_x$"
   ]
  },
  {
   "cell_type": "code",
   "execution_count": 89,
   "metadata": {},
   "outputs": [
    {
     "name": "stdout",
     "output_type": "stream",
     "text": [
      "weight gradient ---\n",
      "Absolute difference of weight from initial weights : -4.023313522338867e-07\n",
      "input gradient ----- \n",
      "tensor([7.0374e-08])\n",
      "tensor([11.6424], grad_fn=<SubBackward0>)\n"
     ]
    },
    {
     "data": {
      "image/png": "[encoded data removed]",
      "text/plain": [
       "<Figure size 432x288 with 1 Axes>"
      ]
     },
     "metadata": {},
     "output_type": "display_data"
    }
   ],
   "source": [
    "input = torch.zeros(1, requires_grad=True)\n",
    "target = torch.ones(1)\n",
    "\n",
    "ffnet = FFNetwork(50)\n",
    "learning_rate = 0.1\n",
    "\n",
    "optimizer = optim.Adam([input], lr=learning_rate)\n",
    "# Update with network parameters\n",
    "#optimizer = optim.Adam([input] + [w for w in ffnet.parameters()], lr=learning_rate)\n",
    "\n",
    "loss_func = nn.MSELoss()\n",
    "y = ffnet(input)\n",
    "hist_adam = [y.detach()]\n",
    "\n",
    "sum_w = 0\n",
    "for w in ffnet.parameters():\n",
    "    sum_w += torch.sum(torch.abs(w))\n",
    "\n",
    "# Update Rule\n",
    "for i in range(500):\n",
    "    optimizer.zero_grad()\n",
    "    loss = loss_func(y, target)\n",
    "    loss.backward()\n",
    "    optimizer.step()\n",
    "    y = ffnet(input)\n",
    "    hist_adam.append(y.detach())\n",
    "\n",
    "plt.plot(hist_adam, label=\"output\")\n",
    "plt.plot([1.0]*len(hist_adam), \"--\", label=\"target\")\n",
    "plt.legend(loc=\"best\")\n",
    "\n",
    "print(\"weight gradient ---\")\n",
    "for w in ffnet.parameters():\n",
    "    sum_w -= torch.sum(torch.abs(w))\n",
    "print(f\"Absolute difference of weight from initial weights : {sum_w}\")\n",
    "print(\"input gradient ----- \")\n",
    "print(input.grad)\n",
    "print(input - input_0)"
   ]
  },
  {
   "cell_type": "markdown",
   "metadata": {},
   "source": [
    "### Copy $\\theta_1$ to $\\theta_2$"
   ]
  },
  {
   "cell_type": "code",
   "execution_count": 96,
   "metadata": {},
   "outputs": [
    {
     "data": {
      "text/plain": [
       "<All keys matched successfully>"
      ]
     },
     "execution_count": 96,
     "metadata": {},
     "output_type": "execute_result"
    }
   ],
   "source": [
    "n = 50\n",
    "learning_rate = 0.001\n",
    "\n",
    "input = torch.randn(n, 1)\n",
    "target = torch.ones(n, 1)\n",
    "ffnet1 = FFNetwork(50)\n",
    "\n",
    "# Copy Network\n",
    "ffnet2 = FFNetwork(50)\n",
    "ffnet2.load_state_dict(ffnet1.state_dict())"
   ]
  },
  {
   "cell_type": "markdown",
   "metadata": {},
   "source": [
    "### Copy $\\theta_1$ to $\\theta_2$ and update only $\\theta_1$ by $\\theta \\leftarrow \\theta + \\alpha \\nabla_\\theta L(\\theta, x)|_{x=x_0}$"
   ]
  },
  {
   "cell_type": "code",
   "execution_count": 97,
   "metadata": {},
   "outputs": [
    {
     "data": {
      "text/plain": [
       "<matplotlib.legend.Legend at 0x130e9acc0>"
      ]
     },
     "execution_count": 97,
     "metadata": {},
     "output_type": "execute_result"
    },
    {
     "data": {
      "image/png": "[encoded data removed]",
      "text/plain": [
       "<Figure size 432x288 with 1 Axes>"
      ]
     },
     "metadata": {},
     "output_type": "display_data"
    }
   ],
   "source": [
    "n = 50\n",
    "learning_rate = 0.001\n",
    "\n",
    "input = torch.randn(n, 1)\n",
    "target = torch.ones(n, 1)\n",
    "ffnet1 = FFNetwork(50)\n",
    "\n",
    "# Copy Network\n",
    "ffnet2 = FFNetwork(50)\n",
    "ffnet2.load_state_dict(ffnet1.state_dict())\n",
    "\n",
    "optimizer = optim.Adam(ffnet1.parameters(), lr=learning_rate)\n",
    "\n",
    "loss_func = nn.MSELoss()\n",
    "loss1 = loss_func(ffnet1(input), target)\n",
    "loss1_hist_adam = [loss1.detach()]\n",
    "loss2 = loss_func(ffnet2(input), target)\n",
    "loss2_hist_adam = [loss2.detach()]\n",
    "\n",
    "for i in range(300):\n",
    "    optimizer.zero_grad()\n",
    "    \n",
    "    loss1 = loss_func(ffnet1(input), target)\n",
    "    loss1_hist_adam.append(loss1.detach())\n",
    "    loss2 = loss_func(ffnet2(input), target)\n",
    "    loss2_hist_adam.append(loss2.detach())\n",
    "    \n",
    "    loss1.backward()\n",
    "    optimizer.step()\n",
    "    \n",
    "    # Copy 2nd Nework Parameters into 1st Network every 100 steps\n",
    "    if i % 100 == 0:\n",
    "        ffnet1.load_state_dict(ffnet2.state_dict())\n",
    "\n",
    "plt.plot(loss1_hist_adam, label=\"ffnet1 loss\")\n",
    "plt.plot(loss2_hist_adam, \"--\", label=\"ffnet2 loss\")\n",
    "plt.legend(loc=\"best\")"
   ]
  },
  {
   "cell_type": "markdown",
   "metadata": {},
   "source": [
    "### Stochastic sampling from $f_\\theta(x)$"
   ]
  },
  {
   "cell_type": "code",
   "execution_count": null,
   "metadata": {},
   "outputs": [],
   "source": [
    "n = 50\n",
    "learning_rate = 0.001\n",
    "\n",
    "input = torch.randn(n, 1)\n",
    "target = torch.ones(n, 1)\n",
    "ffnet = FFNetwork(50)\n",
    "\n"
   ]
  },
  {
   "cell_type": "markdown",
   "metadata": {},
   "source": [
    "### Inject noise (reparametrization trick) and cal grad $\\nabla_\\theta f_\\theta(x, \\epsilon)$, $\\epsilon\\sim {\\cal N}(\\mu, \\sigma^2)$"
   ]
  },
  {
   "cell_type": "code",
   "execution_count": null,
   "metadata": {},
   "outputs": [],
   "source": []
  },
  {
   "cell_type": "markdown",
   "metadata": {},
   "source": [
    "### Use weighted update $\\theta \\leftarrow \\theta + \\alpha \\delta \\nabla_\\theta L(\\theta, x)|_{x=x_0}$, $\\delta  = f_\\theta(x) - \\theta_0$"
   ]
  },
  {
   "cell_type": "code",
   "execution_count": null,
   "metadata": {},
   "outputs": [],
   "source": []
  },
  {
   "cell_type": "markdown",
   "metadata": {},
   "source": [
    "### Use noisy weight $f(x, \\theta + \\epsilon)$, $\\epsilon \\sim {\\cal N}(1, 0)$"
   ]
  },
  {
   "cell_type": "code",
   "execution_count": null,
   "metadata": {},
   "outputs": [],
   "source": []
  },
  {
   "cell_type": "markdown",
   "metadata": {},
   "source": [
    "### Update $\\theta$ by the approximated variational method"
   ]
  },
  {
   "cell_type": "code",
   "execution_count": null,
   "metadata": {},
   "outputs": [],
   "source": []
  },
  {
   "cell_type": "markdown",
   "metadata": {},
   "source": [
    "# Convolution Neural Networks"
   ]
  },
  {
   "cell_type": "markdown",
   "metadata": {},
   "source": [
    "### Define CNN $f_\\theta(x)$"
   ]
  },
  {
   "cell_type": "code",
   "execution_count": null,
   "metadata": {},
   "outputs": [],
   "source": []
  },
  {
   "cell_type": "markdown",
   "metadata": {},
   "source": [
    "### Update weight by minibatch for CNN"
   ]
  },
  {
   "cell_type": "code",
   "execution_count": null,
   "metadata": {},
   "outputs": [],
   "source": []
  },
  {
   "cell_type": "markdown",
   "metadata": {},
   "source": [
    "### Update $x \\leftarrow x + \\alpha \\nabla_x L(\\theta, x)|_x$ for CNN"
   ]
  },
  {
   "cell_type": "code",
   "execution_count": null,
   "metadata": {},
   "outputs": [],
   "source": []
  },
  {
   "cell_type": "markdown",
   "metadata": {},
   "source": [
    "# Recurrent Neural Networks"
   ]
  },
  {
   "cell_type": "markdown",
   "metadata": {},
   "source": [
    "### Define RNN $f_\\theta(x_0, x_1, \\dots, x_T)$"
   ]
  },
  {
   "cell_type": "code",
   "execution_count": null,
   "metadata": {},
   "outputs": [],
   "source": []
  },
  {
   "cell_type": "markdown",
   "metadata": {},
   "source": [
    "### Update weight by minibatch for RNN"
   ]
  },
  {
   "cell_type": "code",
   "execution_count": null,
   "metadata": {},
   "outputs": [],
   "source": []
  },
  {
   "cell_type": "markdown",
   "metadata": {},
   "source": [
    "### Update $x \\leftarrow x + \\alpha \\nabla_x L(\\theta, x)|_x$ for RNN"
   ]
  },
  {
   "cell_type": "code",
   "execution_count": null,
   "metadata": {},
   "outputs": [],
   "source": []
  }
 ],
 "metadata": {
  "kernelspec": {
   "display_name": "Python 3",
   "language": "python",
   "name": "python3"
  },
  "language_info": {
   "codemirror_mode": {
    "name": "ipython",
    "version": 3
   },
   "file_extension": ".py",
   "mimetype": "text/x-python",
   "name": "python",
   "nbconvert_exporter": "python",
   "pygments_lexer": "ipython3",
   "version": "3.6.7"
  }
 },
 "nbformat": 4,
 "nbformat_minor": 4
}
